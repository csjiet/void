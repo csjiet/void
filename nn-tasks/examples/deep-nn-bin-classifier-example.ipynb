{
 "cells": [
  {
   "cell_type": "code",
   "execution_count": 1,
   "id": "5e7a4632-b7bc-4a81-9a3c-61c105a5bbdf",
   "metadata": {
    "tags": []
   },
   "outputs": [],
   "source": [
    "import numpy as np\n",
    "import matplotlib.pyplot as plt\n",
    "import sys\n",
    "from pprint import pprint\n",
    "import os\n",
    "import random\n",
    "\n",
    "sys.path.append('../')\n",
    "import void\n",
    "from void.utils.graphvis import graph_visualizer as gv "
   ]
  },
  {
   "cell_type": "code",
   "execution_count": 2,
   "id": "3128635e-76ef-40ff-a9c5-340869969c1b",
   "metadata": {
    "tags": []
   },
   "outputs": [],
   "source": [
    "# We want to create our own class which overloads the operator in python - operator overloading\n",
    "\n",
    "class Value:\n",
    "    def __init__(self, data, _children = (), _op = '', label = ''):\n",
    "        self.data = data\n",
    "        # Track the operands that generates this Value, by default - a single number - no children\n",
    "        self._prev = set(_children)\n",
    "        self._op= _op\n",
    "        self.label = label\n",
    "        self.grad = 0.0\n",
    "        self._backward = lambda: None\n",
    "\n",
    "    def __repr__(self):\n",
    "        return f'Value(data= {self.data})'\n",
    "    \n",
    "    # Operator overloading using python magic functions\n",
    "    def __add__(self, other) -> float:\n",
    "        other = other if isinstance(other, Value) else Value(other)\n",
    "        out = Value(self.data + other.data, (self, other), '+')\n",
    "        def backward(): self.grad += 1.0 * out.grad; other.grad += 1.0 * out.grad\n",
    "        out._backward = backward\n",
    "        return out\n",
    "    \n",
    "    def __radd__(self, other): # other + self\n",
    "        return self + other\n",
    "    \n",
    "    def __mul__(self, other) -> float:\n",
    "        other = other if isinstance(other, Value) else Value(other)\n",
    "        out = Value(self.data * other.data, (self, other), '*')\n",
    "        def backward(): self.grad += other.data * out.grad ; other.grad += self.data * out.grad\n",
    "        out._backward = backward\n",
    "        return out\n",
    "    \n",
    "    def __rmul__(self, other):\n",
    "        return self * other\n",
    "    \n",
    "    def __neg__(self):\n",
    "        return self * -1\n",
    "    \n",
    "    def __sub__(self, other):\n",
    "        return self + (-other)\n",
    "        \n",
    "    def __rsub__(self, other): # other - self\n",
    "        return other + (-self)\n",
    "    \n",
    "    def exp(self):\n",
    "        out = Value(math.exp(x), (self, ), 'exp')\n",
    "        def backward(): self.grad += out.data * out.grad\n",
    "        out._backward = backward\n",
    "        \n",
    "        return out\n",
    "    \n",
    "    def __pow__(self, other):\n",
    "        assert isinstance(other, (int, float)), \"only supports int/ float powers\"\n",
    "        out = Value(self.data ** other, (self, ), f'**{other}')\n",
    "        def backward(): self.grad += other * (self.data ** (other - 1)) * out.grad\n",
    "        out._backward = backward\n",
    "        return out\n",
    "    \n",
    "    def __truediv__(self, other):\n",
    "        out = self * other**-1 # Just re-calling __mul__() and __pow__()\n",
    "        return out\n",
    "    \n",
    "    def __rtruediv__(self, other): # other / self\n",
    "        return other * self**-1\n",
    "        \n",
    "    \n",
    "    def tanh(self):\n",
    "        result = (np.exp(2*self.data) - 1)/(np.exp(2*self.data) + 1)\n",
    "        out = Value(result, (self, ), _op = 'tanh') # By default tuple of a single object is just the object e.g., (3) vs (3,)\n",
    "        def backward(): self.grad += (1.0 - result**2) * out.grad\n",
    "        out._backward = backward\n",
    "        return out\n",
    "    \n",
    "    def backward(self):\n",
    "       \n",
    "        topo = []\n",
    "        visited = set()\n",
    "        def build_topo(v):\n",
    "            if v not in visited:\n",
    "                visited.add(v)\n",
    "                for child in v._prev:\n",
    "                    build_topo(child)\n",
    "                topo.append(v)\n",
    "        \n",
    "        build_topo(self)\n",
    "        self.grad = 1.0\n",
    "        for node in reversed(topo):\n",
    "            node._backward()\n"
   ]
  },
  {
   "cell_type": "code",
   "execution_count": 3,
   "id": "419d8a52-8e33-4767-a08a-d007919809d7",
   "metadata": {
    "tags": []
   },
   "outputs": [],
   "source": [
    "class Neuron:\n",
    "    # Takes the number of weights to create (in the neuron), and generates its the corresponding weights, and one bias in preparation \n",
    "    def __init__(self, nin: int) -> float:\n",
    "        # These two pieces of int casting from int -> Value is crucial to allow the computational graph to manifest\n",
    "        self.w = [Value(random.uniform(-1,1)) for _ in range(nin)]\n",
    "        self.b = Value(random.uniform(-1, 1))\n",
    "       \n",
    "    # Forward pass\n",
    "    # Takes a list of scalars (with a list of initialized weights that was initialized upon creation), and outputs a single float value\n",
    "    def __call__(self, x: list[float]) -> float:\n",
    "        act = sum((wi*xi for wi, xi in zip(self.w, x)), self.b)\n",
    "        out = act.tanh()\n",
    "        return out\n",
    "    \n",
    "    def parameters(self):\n",
    "        return self.w + [self.b]\n",
    "    \n",
    "class Layer:\n",
    "    # Takes in the number of weights in a neuron, and the number of neurons in a layer\n",
    "    def __init__(self, nin, nout):\n",
    "        # For each neuron, generate their corresponding weights; and stack each neuron independently in a list\n",
    "        self.neurons = [Neuron(nin) for _ in range(nout)]\n",
    "  \n",
    "    # Forward pass\n",
    "    # Iterates each neurons that were created in a layer, and pass in a list of input that matches the shape of the created weights in each neuron.\n",
    "    # This effectively calculates the scalar output for all n neurons in the layer, hence n scalars.\n",
    "    def __call__(self, x):\n",
    "        outs = [n(x) for n in self.neurons]\n",
    "        return outs[0] if len(outs) == 1 else outs\n",
    "    \n",
    "    def parameters(self):\n",
    "        return [p for neuron in self.neurons for p in neuron.parameters()]\n",
    "    \n",
    "class MLP:\n",
    "    def __init__(self, nin, nouts):\n",
    "        sz = [nin]+ nouts\n",
    "        self.layers = [Layer(sz[i], sz[i+1]) for i in range(len(nouts))]\n",
    "   \n",
    "    # Forward pass\n",
    "    def __call__(self, x):\n",
    "        for layer in self.layers:\n",
    "            x = layer(x)\n",
    "        return x\n",
    "    def parameters(self):\n",
    "        return [p for layer in self.layers for p in layer.parameters()]"
   ]
  },
  {
   "cell_type": "code",
   "execution_count": 4,
   "id": "9ccb5171-e678-4b62-a3bc-2c47a8c7002a",
   "metadata": {
    "tags": []
   },
   "outputs": [],
   "source": [
    "# Initialize weights, neurons, layers, MLP in that constitutes a neural net\n",
    "n = MLP(3, [4,4,1])\n",
    "\n",
    "# Simple training data\n",
    "xs = [\n",
    "    [2.0, 3.0, -1.0],\n",
    "    [3.0, -1.0, 0.5],\n",
    "    [0.5, 1.0, 1.0],\n",
    "    [1.0, 1.0, -1.0]\n",
    "] \n",
    "\n",
    "# Target\n",
    "ys = [1.0, -1.0, -1.0, 1.0] \n"
   ]
  },
  {
   "cell_type": "code",
   "execution_count": 5,
   "id": "0d7a9202-1176-4923-9aa7-05d79a141280",
   "metadata": {
    "tags": []
   },
   "outputs": [
    {
     "name": "stdout",
     "output_type": "stream",
     "text": [
      "Prediction BEFORE feeding/ optimizing through a neural net\n"
     ]
    },
    {
     "data": {
      "text/plain": [
       "[Value(data= -0.6561659541879368),\n",
       " Value(data= -0.9628398196997272),\n",
       " Value(data= -0.9559176618463827),\n",
       " Value(data= -0.504217369092257)]"
      ]
     },
     "execution_count": 5,
     "metadata": {},
     "output_type": "execute_result"
    }
   ],
   "source": [
    "ypred = [n(x) for x in xs] # ypred - list of Value object\n",
    "print('Prediction BEFORE feeding/ optimizing through a neural net')\n",
    "ypred"
   ]
  },
  {
   "cell_type": "code",
   "execution_count": 6,
   "id": "a9f5d198-1c14-4368-bed5-6d51f65a9c62",
   "metadata": {},
   "outputs": [],
   "source": [
    "def grad_descent(epoch):\n",
    "    ypred = 0\n",
    "    for k in range(epoch):\n",
    "        ypred = [n(x) for x in xs] # ypred - list of Value object\n",
    "        # Loss function \n",
    "        # Ideally it has to be tied also to into the computational graph\n",
    "        # Since ypred are all Value objects, any operations on them in the loss function will be part of the computational graph\n",
    "\n",
    "       \n",
    "        # NN optimization only requires 4 steps - if each component is present (and works properly) you have a working NN\n",
    "        # 1) Forward pass\n",
    "        loss = sum([(yhat - y)**2 for y, yhat in zip(ys, ypred)]) # Squared error loss function\n",
    "        \n",
    "        # 2) Backward pass\n",
    "        loss.backward()\n",
    "\n",
    "        # 3) Update weights\n",
    "        for p in n.parameters():\n",
    "            p.data += - 0.1 * p.grad\n",
    "            \n",
    "        # 4) Zero grad\n",
    "        for p in n.parameters():\n",
    "            p.grad = 0.0\n",
    "            \n",
    "        print(f'epoch: {k} | loss: {loss}')\n",
    "    return ypred"
   ]
  },
  {
   "cell_type": "code",
   "execution_count": 7,
   "id": "215eea1b-c220-4f6b-8e7d-8350611ec4f1",
   "metadata": {},
   "outputs": [
    {
     "name": "stdout",
     "output_type": "stream",
     "text": [
      "epoch: 0 | loss: Value(data= 5.008879692827109)\n",
      "epoch: 1 | loss: Value(data= 1.6324538777354851)\n",
      "epoch: 2 | loss: Value(data= 0.5544334550509195)\n",
      "epoch: 3 | loss: Value(data= 0.09501999874622347)\n",
      "epoch: 4 | loss: Value(data= 0.06977656840637042)\n",
      "epoch: 5 | loss: Value(data= 0.056806870570780314)\n",
      "epoch: 6 | loss: Value(data= 0.048738031642196825)\n",
      "epoch: 7 | loss: Value(data= 0.043143494490526235)\n",
      "epoch: 8 | loss: Value(data= 0.03897949773276099)\n",
      "epoch: 9 | loss: Value(data= 0.035721645578456085)\n",
      "epoch: 10 | loss: Value(data= 0.03307744302782679)\n",
      "epoch: 11 | loss: Value(data= 0.030870755008916687)\n",
      "epoch: 12 | loss: Value(data= 0.02898903068260581)\n",
      "epoch: 13 | loss: Value(data= 0.027356828632884463)\n",
      "epoch: 14 | loss: Value(data= 0.025921540882184853)\n",
      "epoch: 15 | loss: Value(data= 0.024645236727974786)\n",
      "epoch: 16 | loss: Value(data= 0.023499775652312056)\n",
      "epoch: 17 | loss: Value(data= 0.022463759015966582)\n",
      "epoch: 18 | loss: Value(data= 0.021520561908760165)\n",
      "epoch: 19 | loss: Value(data= 0.020657023543466484)\n",
      "epoch: 20 | loss: Value(data= 0.019862552338548754)\n",
      "epoch: 21 | loss: Value(data= 0.01912849967909774)\n",
      "epoch: 22 | loss: Value(data= 0.018447712230243857)\n",
      "epoch: 23 | loss: Value(data= 0.017814205648590674)\n",
      "epoch: 24 | loss: Value(data= 0.017222922557010148)\n",
      "epoch: 25 | loss: Value(data= 0.016669550120630615)\n",
      "epoch: 26 | loss: Value(data= 0.016150380514763574)\n",
      "epoch: 27 | loss: Value(data= 0.015662202754687327)\n",
      "epoch: 28 | loss: Value(data= 0.01520221779576901)\n",
      "epoch: 29 | loss: Value(data= 0.014767971136235798)\n"
     ]
    }
   ],
   "source": [
    "ypred = grad_descent(30)"
   ]
  },
  {
   "cell_type": "code",
   "execution_count": 8,
   "id": "349f712a-96b2-448d-9f4e-742adf3b65e1",
   "metadata": {
    "tags": []
   },
   "outputs": [
    {
     "name": "stdout",
     "output_type": "stream",
     "text": [
      "Prediction AFTER feeding/ optimizing in a neural net\n"
     ]
    },
    {
     "data": {
      "text/plain": [
       "[Value(data= 0.9361110080857288),\n",
       " Value(data= -0.9503975567594513),\n",
       " Value(data= -0.9330266597100743),\n",
       " Value(data= 0.9388417040509471)]"
      ]
     },
     "execution_count": 8,
     "metadata": {},
     "output_type": "execute_result"
    }
   ],
   "source": [
    "print('Prediction AFTER feeding/ optimizing in a neural net')\n",
    "ypred"
   ]
  },
  {
   "cell_type": "code",
   "execution_count": 9,
   "id": "5545ac80-43df-4a54-9619-0008c5753f7a",
   "metadata": {
    "tags": []
   },
   "outputs": [
    {
     "name": "stdout",
     "output_type": "stream",
     "text": [
      "Target prediction\n",
      "[1.0, -1.0, -1.0, 1.0]\n"
     ]
    }
   ],
   "source": [
    "print('Target prediction')\n",
    "print(ys)"
   ]
  },
  {
   "cell_type": "markdown",
   "id": "cbf3f974-e8fd-45cd-89ce-2c7fce02c96c",
   "metadata": {},
   "source": [
    "### Close enough ✅"
   ]
  },
  {
   "cell_type": "code",
   "execution_count": null,
   "id": "bb4c2797-ecaa-45b8-ab01-fdf34ca48a2b",
   "metadata": {},
   "outputs": [],
   "source": []
  }
 ],
 "metadata": {
  "kernelspec": {
   "display_name": "python_ml_venv",
   "language": "python",
   "name": "python_ml_venv"
  },
  "language_info": {
   "codemirror_mode": {
    "name": "ipython",
    "version": 3
   },
   "file_extension": ".py",
   "mimetype": "text/x-python",
   "name": "python",
   "nbconvert_exporter": "python",
   "pygments_lexer": "ipython3",
   "version": "3.10.4"
  }
 },
 "nbformat": 4,
 "nbformat_minor": 5
}
