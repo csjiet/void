{
 "cells": [
  {
   "cell_type": "code",
   "execution_count": 1,
   "id": "2ab45aae-77d0-4f2b-b8e7-104d2199647f",
   "metadata": {
    "tags": []
   },
   "outputs": [],
   "source": [
    "import torch\n",
    "import torch.nn as nn\n",
    "import torch.optim as optim \n",
    "from torch.utils.data import TensorDataset, random_split\n",
    "import matplotlib.pyplot as plt\n",
    "from typing import Callable"
   ]
  },
  {
   "cell_type": "code",
   "execution_count": 2,
   "id": "215dea97-d46e-4e46-85aa-b119917d60ee",
   "metadata": {
    "tags": []
   },
   "outputs": [],
   "source": [
    "torch.manual_seed(0)\n",
    "# Prepare dataset\n",
    "# Generates polynomial data \n",
    "def polynomial_data_gen(eq: Callable[[torch.Tensor], torch.Tensor], n: int = 2, x_range: list = [0, 1], noise: float = 0):\n",
    "    assert noise >= 0\n",
    "    x = torch.linspace(x_range[0], x_range[1], n) \n",
    "    offset = torch.rand(n) * torch.randint(-noise, noise, (n,)) if noise else torch.zeros(n)\n",
    "    y = eq(x) + offset\n",
    "    return x, y"
   ]
  },
  {
   "cell_type": "code",
   "execution_count": 3,
   "id": "5b6d8226-f1ba-495f-a7e9-93905991c3a0",
   "metadata": {
    "tags": []
   },
   "outputs": [],
   "source": [
    "class CustomLinearNet(nn.Module):\n",
    "    def __init__(self, _in_s: int, _out_s: int, layer_conf: list):\n",
    "        super().__init__()\n",
    "        self._layers = nn.ModuleList(\n",
    "            [getattr(torch.nn, layer_type)(**kwargs) for layer_type, kwargs in layer_conf]\n",
    "        )\n",
    "    \n",
    "    def forward(self, x):\n",
    "        for layer in self._layers:\n",
    "            x = layer(x)\n",
    "        return x "
   ]
  },
  {
   "cell_type": "markdown",
   "id": "6ce9bddc-389e-44c7-b1f5-4e4ec0831a9b",
   "metadata": {},
   "source": [
    "Okay. Cool. Can it learn polynomials?"
   ]
  },
  {
   "cell_type": "code",
   "execution_count": 4,
   "id": "581ee282-6e5f-48e6-9dd7-908d33bd2c6c",
   "metadata": {
    "tags": []
   },
   "outputs": [
    {
     "data": {
      "text/plain": [
       "<matplotlib.collections.PathCollection at 0x13056cb20>"
      ]
     },
     "execution_count": 4,
     "metadata": {},
     "output_type": "execute_result"
    },
    {
     "data": {
      "image/png": "[encoded data removed]",
      "text/plain": [
       "<Figure size 500x300 with 1 Axes>"
      ]
     },
     "metadata": {},
     "output_type": "display_data"
    }
   ],
   "source": [
    "eq = lambda x: (-x**8) + (4 * x**6) - (5 * x**4) + 25 * x**2\n",
    "X , Y = polynomial_data_gen(eq, n = 100, x_range = [-2, 2], noise= 0)\n",
    "r = 0.8\n",
    "train_size = int(len(X) * r) \n",
    "test_size = len(X) - train_size\n",
    "train, test =  random_split(TensorDataset(X, Y), [train_size, test_size])\n",
    "x_train, y_train = train[:]\n",
    "x_test, y_test= test[:]\n",
    "\n",
    "fig, ax = plt.subplots(figsize=(5,3))\n",
    "ax.scatter(x_train, y_train)\n",
    "ax.scatter(x_test, y_test, color='green')"
   ]
  },
  {
   "cell_type": "code",
   "execution_count": 5,
   "id": "14048715-73fd-40c8-8135-c2ed316628ea",
   "metadata": {
    "tags": []
   },
   "outputs": [
    {
     "name": "stdout",
     "output_type": "stream",
     "text": [
      "Model: \n",
      "CustomLinearNet(\n",
      "  (_layers): ModuleList(\n",
      "    (0): Linear(in_features=1, out_features=1, bias=True)\n",
      "    (1): Sigmoid()\n",
      "  )\n",
      ")\n",
      "Training loop:\n",
      "epoch 0, Loss: 1060.423095703125\n",
      "epoch 1, Loss: 1059.253662109375\n",
      "epoch 2, Loss: 1058.124755859375\n",
      "epoch 3, Loss: 1057.0631103515625\n",
      "epoch 4, Loss: 1056.0860595703125\n",
      "epoch 5, Loss: 1055.2020263671875\n",
      "epoch 6, Loss: 1054.411376953125\n",
      "epoch 7, Loss: 1053.7080078125\n",
      "epoch 8, Loss: 1053.0843505859375\n",
      "epoch 9, Loss: 1052.530517578125\n",
      "epoch 10, Loss: 1052.037353515625\n",
      "epoch 11, Loss: 1051.596923828125\n",
      "epoch 12, Loss: 1051.2015380859375\n",
      "epoch 13, Loss: 1050.8453369140625\n",
      "epoch 14, Loss: 1050.522705078125\n",
      "epoch 15, Loss: 1050.2293701171875\n",
      "epoch 16, Loss: 1049.961669921875\n",
      "epoch 17, Loss: 1049.7164306640625\n",
      "epoch 18, Loss: 1049.490966796875\n",
      "epoch 19, Loss: 1049.2828369140625\n",
      "epoch 20, Loss: 1049.0904541015625\n",
      "epoch 21, Loss: 1048.911865234375\n",
      "epoch 22, Loss: 1048.7459716796875\n",
      "epoch 23, Loss: 1048.5911865234375\n",
      "epoch 24, Loss: 1048.4466552734375\n",
      "epoch 25, Loss: 1048.311279296875\n",
      "epoch 26, Loss: 1048.184326171875\n",
      "epoch 27, Loss: 1048.065185546875\n",
      "epoch 28, Loss: 1047.9527587890625\n",
      "epoch 29, Loss: 1047.846923828125\n",
      "epoch 30, Loss: 1047.7469482421875\n",
      "epoch 31, Loss: 1047.65234375\n",
      "epoch 32, Loss: 1047.562744140625\n",
      "epoch 33, Loss: 1047.4779052734375\n",
      "epoch 34, Loss: 1047.3973388671875\n",
      "epoch 35, Loss: 1047.3206787109375\n",
      "epoch 36, Loss: 1047.2476806640625\n",
      "epoch 37, Loss: 1047.17822265625\n",
      "epoch 38, Loss: 1047.112060546875\n",
      "epoch 39, Loss: 1047.048583984375\n",
      "epoch 40, Loss: 1046.98828125\n",
      "epoch 41, Loss: 1046.930419921875\n",
      "epoch 42, Loss: 1046.8751220703125\n",
      "epoch 43, Loss: 1046.822021484375\n",
      "epoch 44, Loss: 1046.7711181640625\n",
      "epoch 45, Loss: 1046.722412109375\n",
      "epoch 46, Loss: 1046.675537109375\n",
      "epoch 47, Loss: 1046.63037109375\n",
      "epoch 48, Loss: 1046.587158203125\n",
      "epoch 49, Loss: 1046.5452880859375\n"
     ]
    }
   ],
   "source": [
    "x_train_reshaped = x_train.reshape(-1, 1)\n",
    "y_train_reshaped = y_train.reshape(-1, 1)\n",
    "\n",
    "model = CustomLinearNet(1,1, \n",
    "                        [ ('Linear', {'in_features': 1, 'out_features': 1}), \n",
    "                            ('tanh', {}),\n",
    "                        ]\n",
    "                       )\n",
    "print(f\"Model: \\n{model}\")\n",
    "EPOCH = 50 \n",
    "criterion = nn.MSELoss()\n",
    "optimizer = optim.SGD(model.parameters(), lr=0.01)\n",
    "\n",
    "print(\"Training loop:\")\n",
    "# Training loop\n",
    "for epoch in range(EPOCH):\n",
    "    # Forward pass\n",
    "    ypred = model.forward(x_train_reshaped)\n",
    "    \n",
    "    # Zero grad\n",
    "    optimizer.zero_grad()\n",
    "    \n",
    "    # Backward pass\n",
    "    loss = criterion(ypred, y_train_reshaped)\n",
    "    loss.backward()\n",
    "    \n",
    "    # Update\n",
    "    optimizer.step()\n",
    "    \n",
    "    print(f\"epoch {epoch}, Loss: {loss.item()}\")"
   ]
  },
  {
   "cell_type": "code",
   "execution_count": 6,
   "id": "cd70e861-5311-4487-9c63-3ac3b4f435e7",
   "metadata": {
    "tags": []
   },
   "outputs": [
    {
     "data": {
      "text/plain": [
       "<matplotlib.collections.PathCollection at 0x130687610>"
      ]
     },
     "execution_count": 6,
     "metadata": {},
     "output_type": "execute_result"
    },
    {
     "data": {
      "image/png": "[encoded data removed]",
      "text/plain": [
       "<Figure size 500x300 with 1 Axes>"
      ]
     },
     "metadata": {},
     "output_type": "display_data"
    }
   ],
   "source": [
    "x_test_reshaped = x_test.reshape(-1, 1)\n",
    "y_test_reshaped = y_test.reshape(-1, 1)\n",
    "ypred = model.forward(x_test_reshaped)\n",
    "\n",
    "fig, ax = plt.subplots(figsize=(5,3))\n",
    "ax.scatter(x_test, y_test)\n",
    "\n",
    "ax.scatter(x_test_reshaped.detach().numpy(), ypred.detach().numpy())"
   ]
  },
  {
   "cell_type": "markdown",
   "id": "12a47001-ca7c-451d-913d-2b32444ad263",
   "metadata": {
    "tags": []
   },
   "source": [
    "Okay. Can two neurons learn polynomials?"
   ]
  },
  {
   "cell_type": "code",
   "execution_count": 7,
   "id": "7c01d75c-ca8a-47a5-844f-12eced9152a2",
   "metadata": {
    "tags": []
   },
   "outputs": [
    {
     "name": "stdout",
     "output_type": "stream",
     "text": [
      "Model: \n",
      "CustomLinearNet(\n",
      "  (_layers): ModuleList(\n",
      "    (0): Linear(in_features=1, out_features=2, bias=True)\n",
      "    (1): ReLU()\n",
      "    (2): Linear(in_features=2, out_features=1, bias=True)\n",
      "  )\n",
      ")\n",
      "Training loop:\n",
      "epoch 0, Loss: 1125.201416015625\n",
      "epoch 1, Loss: 1118.4647216796875\n",
      "epoch 2, Loss: 1111.113037109375\n",
      "epoch 3, Loss: 1102.676025390625\n",
      "epoch 4, Loss: 1093.09228515625\n",
      "epoch 5, Loss: 1082.3399658203125\n",
      "epoch 6, Loss: 1070.4088134765625\n",
      "epoch 7, Loss: 1057.2913818359375\n",
      "epoch 8, Loss: 1042.9854736328125\n",
      "epoch 9, Loss: 1027.49560546875\n",
      "epoch 10, Loss: 1010.8372192382812\n",
      "epoch 11, Loss: 993.03271484375\n",
      "epoch 12, Loss: 974.1189575195312\n",
      "epoch 13, Loss: 954.1512451171875\n",
      "epoch 14, Loss: 933.1989135742188\n",
      "epoch 15, Loss: 911.3435668945312\n",
      "epoch 16, Loss: 888.6798706054688\n",
      "epoch 17, Loss: 865.3274536132812\n",
      "epoch 18, Loss: 841.4302978515625\n",
      "epoch 19, Loss: 817.1389770507812\n",
      "epoch 20, Loss: 792.6458129882812\n",
      "epoch 21, Loss: 768.1417846679688\n",
      "epoch 22, Loss: 743.8560180664062\n",
      "epoch 23, Loss: 720.0343017578125\n",
      "epoch 24, Loss: 696.9342651367188\n",
      "epoch 25, Loss: 674.8253784179688\n",
      "epoch 26, Loss: 653.9833374023438\n",
      "epoch 27, Loss: 634.6736450195312\n",
      "epoch 28, Loss: 617.1556396484375\n",
      "epoch 29, Loss: 601.6787109375\n",
      "epoch 30, Loss: 588.4390869140625\n",
      "epoch 31, Loss: 577.5701904296875\n",
      "epoch 32, Loss: 569.1228637695312\n",
      "epoch 33, Loss: 563.0430908203125\n",
      "epoch 34, Loss: 559.1585693359375\n",
      "epoch 35, Loss: 557.1737060546875\n",
      "epoch 36, Loss: 556.6837158203125\n",
      "epoch 37, Loss: 557.2061767578125\n",
      "epoch 38, Loss: 558.2296142578125\n",
      "epoch 39, Loss: 559.2701416015625\n",
      "epoch 40, Loss: 559.8807373046875\n",
      "epoch 41, Loss: 559.787353515625\n",
      "epoch 42, Loss: 558.8363037109375\n",
      "epoch 43, Loss: 556.9940185546875\n",
      "epoch 44, Loss: 554.3309936523438\n",
      "epoch 45, Loss: 550.9688110351562\n",
      "epoch 46, Loss: 547.0848388671875\n",
      "epoch 47, Loss: 542.8990478515625\n",
      "epoch 48, Loss: 538.5802001953125\n",
      "epoch 49, Loss: 534.3240966796875\n"
     ]
    }
   ],
   "source": [
    "model = CustomLinearNet(1,1, \n",
    "                        [ ('Linear', {'in_features': 1, 'out_features': 2}), \n",
    "                            ('ReLU', {}),\n",
    "                            ('Linear', {'in_features': 2, 'out_features': 1}), \n",
    "                        ]\n",
    "                       )\n",
    "print(f\"Model: \\n{model}\")\n",
    "EPOCH = 50 \n",
    "criterion = nn.MSELoss()\n",
    "optimizer = optim.Adam(model.parameters(), lr=0.1)\n",
    "\n",
    "print(\"Training loop:\")\n",
    "# Training loop\n",
    "for epoch in range(EPOCH):\n",
    "    # Forward pass\n",
    "    ypred = model.forward(x_train_reshaped)\n",
    "    \n",
    "    # Zero grad\n",
    "    optimizer.zero_grad()\n",
    "    \n",
    "    # Backward pass\n",
    "    loss = criterion(ypred, y_train_reshaped)\n",
    "    loss.backward()\n",
    "    \n",
    "    # Update\n",
    "    optimizer.step()\n",
    "    \n",
    "    print(f\"epoch {epoch}, Loss: {loss.item()}\")"
   ]
  },
  {
   "cell_type": "code",
   "execution_count": 8,
   "id": "f3a3a3a7-42d2-40d8-93a0-ae925f748954",
   "metadata": {
    "tags": []
   },
   "outputs": [
    {
     "data": {
      "text/plain": [
       "<matplotlib.collections.PathCollection at 0x13641e230>"
      ]
     },
     "execution_count": 8,
     "metadata": {},
     "output_type": "execute_result"
    },
    {
     "data": {
      "image/png": "[encoded data removed]",
      "text/plain": [
       "<Figure size 500x300 with 1 Axes>"
      ]
     },
     "metadata": {},
     "output_type": "display_data"
    }
   ],
   "source": [
    "x_test_reshaped = x_test.reshape(-1, 1)\n",
    "y_test_reshaped = y_test.reshape(-1, 1)\n",
    "ypred = model.forward(x_test_reshaped)\n",
    "\n",
    "fig, ax = plt.subplots(figsize=(5,3))\n",
    "ax.scatter(x_test, y_test)\n",
    "\n",
    "ax.scatter(x_test_reshaped.detach().numpy(), ypred.detach().numpy())"
   ]
  },
  {
   "cell_type": "markdown",
   "id": "03f95a2d-7982-4483-9720-41e4f09ba1bb",
   "metadata": {},
   "source": [
    "Okay. Can two layers learn polynomials? "
   ]
  },
  {
   "cell_type": "markdown",
   "id": "ebca7b88-1386-4a2e-b23e-f7de234cfcb2",
   "metadata": {},
   "source": [
    "https://theory.stanford.edu/~valiant/papers/andoni14.pdf"
   ]
  },
  {
   "cell_type": "code",
   "execution_count": null,
   "id": "b9c2e673-a3ac-4b86-8a18-a405753211d7",
   "metadata": {},
   "outputs": [],
   "source": []
  },
  {
   "cell_type": "code",
   "execution_count": null,
   "id": "4cb26401-6475-4973-b036-395861ec3732",
   "metadata": {},
   "outputs": [],
   "source": []
  }
 ],
 "metadata": {
  "kernelspec": {
   "display_name": "python_ml_venv",
   "language": "python",
   "name": "python_ml_venv"
  },
  "language_info": {
   "codemirror_mode": {
    "name": "ipython",
    "version": 3
   },
   "file_extension": ".py",
   "mimetype": "text/x-python",
   "name": "python",
   "nbconvert_exporter": "python",
   "pygments_lexer": "ipython3",
   "version": "3.10.4"
  }
 },
 "nbformat": 4,
 "nbformat_minor": 5
}
