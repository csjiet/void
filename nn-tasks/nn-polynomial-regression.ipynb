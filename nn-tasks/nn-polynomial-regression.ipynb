{
 "cells": [
  {
   "cell_type": "markdown",
   "id": "b9143aab-fd85-4ae3-8e31-636add184e9a",
   "metadata": {
    "tags": []
   },
   "source": [
    "Okay. Can neural nets learn polynomials?"
   ]
  },
  {
   "cell_type": "code",
   "execution_count": 1,
   "id": "2ab45aae-77d0-4f2b-b8e7-104d2199647f",
   "metadata": {
    "tags": []
   },
   "outputs": [],
   "source": [
    "import torch\n",
    "import torch.nn as nn\n",
    "import torch.optim as optim \n",
    "from torch.utils.data import TensorDataset, random_split\n",
    "import matplotlib.pyplot as plt\n",
    "from typing import Callable"
   ]
  },
  {
   "cell_type": "code",
   "execution_count": 2,
   "id": "215dea97-d46e-4e46-85aa-b119917d60ee",
   "metadata": {
    "tags": []
   },
   "outputs": [],
   "source": [
    "torch.manual_seed(0)\n",
    "# Prepare dataset\n",
    "# Generates polynomial data \n",
    "def polynomial_data_gen(eq: Callable[[torch.Tensor], torch.Tensor], n: int = 2, x_range: list = [0, 1], noise: float = 0):\n",
    "    assert noise >= 0\n",
    "    x = torch.linspace(x_range[0], x_range[1], n) \n",
    "    offset = torch.rand(n) * torch.randint(-noise, noise, (n,)) if noise else torch.zeros(n)\n",
    "    y = eq(x) + offset\n",
    "    return x, y"
   ]
  },
  {
   "cell_type": "code",
   "execution_count": 3,
   "id": "5b6d8226-f1ba-495f-a7e9-93905991c3a0",
   "metadata": {
    "tags": []
   },
   "outputs": [],
   "source": [
    "class CustomLinearNet(nn.Module):\n",
    "    def __init__(self, _in_s: int, _out_s: int, layer_conf: list):\n",
    "        super().__init__()\n",
    "        self._layers = nn.ModuleList(\n",
    "            [getattr(torch.nn, layer_type)(**kwargs) for layer_type, kwargs in layer_conf]\n",
    "        )\n",
    "    \n",
    "    def forward(self, x):\n",
    "        for layer in self._layers:\n",
    "            x = layer(x)\n",
    "        return x "
   ]
  },
  {
   "cell_type": "code",
   "execution_count": 4,
   "id": "581ee282-6e5f-48e6-9dd7-908d33bd2c6c",
   "metadata": {
    "tags": []
   },
   "outputs": [
    {
     "data": {
      "text/plain": [
       "<matplotlib.legend.Legend at 0x1340f79d0>"
      ]
     },
     "execution_count": 4,
     "metadata": {},
     "output_type": "execute_result"
    },
    {
     "data": {
      "image/png": "[encoded data removed]",
      "text/plain": [
       "<Figure size 500x300 with 1 Axes>"
      ]
     },
     "metadata": {},
     "output_type": "display_data"
    }
   ],
   "source": [
    "eq = lambda x: (x - 3)*(x - 2)*(x - 1)*(x)*(x + 1)*(x + 2)*(x + 3) \n",
    "X , Y = polynomial_data_gen(eq, n = 150, x_range = [-2, 2], noise= 0)\n",
    "r = 0.8\n",
    "train_size = int(len(X) * r) \n",
    "test_size = len(X) - train_size\n",
    "train, test =  random_split(TensorDataset(X, Y), [train_size, test_size])\n",
    "x_train, y_train = train[:]\n",
    "x_test, y_test= test[:]\n",
    "\n",
    "fig, ax = plt.subplots(figsize=(5,3))\n",
    "ax.scatter(x_train, y_train, label='train')\n",
    "ax.scatter(x_test, y_test, color='green', label='test')\n",
    "ax.legend()"
   ]
  },
  {
   "cell_type": "code",
   "execution_count": 5,
   "id": "14048715-73fd-40c8-8135-c2ed316628ea",
   "metadata": {
    "tags": []
   },
   "outputs": [],
   "source": [
    "x_train_reshaped = x_train.reshape(-1, 1)\n",
    "y_train_reshaped = y_train.reshape(-1, 1)"
   ]
  },
  {
   "cell_type": "code",
   "execution_count": 6,
   "id": "7c01d75c-ca8a-47a5-844f-12eced9152a2",
   "metadata": {
    "tags": []
   },
   "outputs": [
    {
     "name": "stdout",
     "output_type": "stream",
     "text": [
      "Model: \n",
      "CustomLinearNet(\n",
      "  (_layers): ModuleList(\n",
      "    (0): Linear(in_features=1, out_features=25, bias=True)\n",
      "    (1): ReLU()\n",
      "    (2): Linear(in_features=25, out_features=20, bias=True)\n",
      "    (3): ReLU()\n",
      "    (4): Linear(in_features=20, out_features=10, bias=True)\n",
      "    (5): ReLU()\n",
      "    (6): Linear(in_features=10, out_features=6, bias=True)\n",
      "    (7): ReLU()\n",
      "    (8): Linear(in_features=6, out_features=1, bias=True)\n",
      "  )\n",
      ")\n",
      "Training loop:\n",
      "epoch 0, Loss: 168.42742919921875\n",
      "epoch 1, Loss: 167.77122497558594\n",
      "epoch 2, Loss: 162.99383544921875\n",
      "epoch 3, Loss: 150.90792846679688\n",
      "epoch 4, Loss: 126.92701721191406\n",
      "epoch 5, Loss: 118.12825775146484\n",
      "epoch 6, Loss: 133.9815673828125\n",
      "epoch 7, Loss: 96.23130798339844\n",
      "epoch 8, Loss: 97.76387786865234\n",
      "epoch 9, Loss: 102.65702819824219\n",
      "epoch 10, Loss: 98.23519134521484\n",
      "epoch 11, Loss: 94.72711944580078\n",
      "epoch 12, Loss: 86.53961944580078\n",
      "epoch 13, Loss: 80.6812973022461\n",
      "epoch 14, Loss: 81.15006256103516\n",
      "epoch 15, Loss: 82.64347076416016\n",
      "epoch 16, Loss: 82.21868133544922\n",
      "epoch 17, Loss: 79.35777282714844\n",
      "epoch 18, Loss: 75.38260650634766\n",
      "epoch 19, Loss: 74.6324691772461\n",
      "epoch 20, Loss: 74.410888671875\n",
      "epoch 21, Loss: 71.6989517211914\n",
      "epoch 22, Loss: 69.28115844726562\n",
      "epoch 23, Loss: 67.46985626220703\n",
      "epoch 24, Loss: 66.9708480834961\n",
      "epoch 25, Loss: 66.15117645263672\n",
      "epoch 26, Loss: 63.305973052978516\n",
      "epoch 27, Loss: 63.07726287841797\n",
      "epoch 28, Loss: 62.20105743408203\n",
      "epoch 29, Loss: 61.60183334350586\n",
      "epoch 30, Loss: 59.67231369018555\n",
      "epoch 31, Loss: 60.12680435180664\n",
      "epoch 32, Loss: 59.09833908081055\n",
      "epoch 33, Loss: 56.636837005615234\n",
      "epoch 34, Loss: 54.486045837402344\n",
      "epoch 35, Loss: 52.612369537353516\n",
      "epoch 36, Loss: 49.66606521606445\n",
      "epoch 37, Loss: 48.10011291503906\n",
      "epoch 38, Loss: 50.15522003173828\n",
      "epoch 39, Loss: 54.341651916503906\n",
      "epoch 40, Loss: 45.88734436035156\n",
      "epoch 41, Loss: 41.079933166503906\n",
      "epoch 42, Loss: 44.964847564697266\n",
      "epoch 43, Loss: 39.186790466308594\n",
      "epoch 44, Loss: 35.046688079833984\n",
      "epoch 45, Loss: 36.78440475463867\n",
      "epoch 46, Loss: 35.31123733520508\n",
      "epoch 47, Loss: 31.268115997314453\n",
      "epoch 48, Loss: 28.747861862182617\n",
      "epoch 49, Loss: 30.289831161499023\n"
     ]
    }
   ],
   "source": [
    "model = CustomLinearNet(1,1, \n",
    "                        [ ('Linear', {'in_features': 1, 'out_features': 40}), \n",
    "                            ('ReLU', {}),\n",
    "                            ('Linear', {'in_features': 40, 'out_features': 30}), \n",
    "                            ('ReLU', {}),\n",
    "                            ('Linear', {'in_features': 30, 'out_features': 10}), \n",
    "                            ('ReLU', {}),\n",
    "                            ('Linear', {'in_features': 10, 'out_features': 10}), \n",
    "                            ('ReLU', {}),\n",
    "                            ('Linear', {'in_features': 10, 'out_features': 1}), \n",
    "                        ]\n",
    "                       )\n",
    "print(f\"Model: \\n{model}\")\n",
    "EPOCH = 50 \n",
    "criterion = nn.MSELoss()\n",
    "optimizer = optim.Adam(model.parameters(), lr=0.1)\n",
    "\n",
    "print(\"Training loop:\")\n",
    "# Training loop\n",
    "for epoch in range(EPOCH):\n",
    "    # Forward pass\n",
    "    ypred = model.forward(x_train_reshaped)\n",
    "    \n",
    "    # Zero grad\n",
    "    optimizer.zero_grad()\n",
    "    \n",
    "    # Backward pass\n",
    "    loss = criterion(ypred, y_train_reshaped)\n",
    "    loss.backward()\n",
    "    \n",
    "    # Update\n",
    "    optimizer.step()\n",
    "    \n",
    "    print(f\"epoch {epoch}, Loss: {loss.item()}\")"
   ]
  },
  {
   "cell_type": "code",
   "execution_count": 7,
   "id": "f3a3a3a7-42d2-40d8-93a0-ae925f748954",
   "metadata": {
    "tags": []
   },
   "outputs": [
    {
     "data": {
      "text/plain": [
       "<matplotlib.collections.PathCollection at 0x134293c40>"
      ]
     },
     "execution_count": 7,
     "metadata": {},
     "output_type": "execute_result"
    },
    {
     "data": {
      "image/png": "[encoded data removed]",
      "text/plain": [
       "<Figure size 500x300 with 1 Axes>"
      ]
     },
     "metadata": {},
     "output_type": "display_data"
    }
   ],
   "source": [
    "x_test_reshaped = x_test.reshape(-1, 1)\n",
    "y_test_reshaped = y_test.reshape(-1, 1)\n",
    "ypred = model.forward(x_test_reshaped)\n",
    "\n",
    "fig, ax = plt.subplots(figsize=(5,3))\n",
    "ax.scatter(x_test, y_test, label = 'test')\n",
    "\n",
    "ax.scatter(x_test_reshaped.detach().numpy(), ypred.detach().numpy(), label = 'predicted')"
   ]
  },
  {
   "cell_type": "markdown",
   "id": "ebca7b88-1386-4a2e-b23e-f7de234cfcb2",
   "metadata": {},
   "source": [
    "https://theory.stanford.edu/~valiant/papers/andoni14.pdf"
   ]
  },
  {
   "cell_type": "code",
   "execution_count": null,
   "id": "4cb26401-6475-4973-b036-395861ec3732",
   "metadata": {},
   "outputs": [],
   "source": []
  }
 ],
 "metadata": {
  "kernelspec": {
   "display_name": "python_ml_venv",
   "language": "python",
   "name": "python_ml_venv"
  },
  "language_info": {
   "codemirror_mode": {
    "name": "ipython",
    "version": 3
   },
   "file_extension": ".py",
   "mimetype": "text/x-python",
   "name": "python",
   "nbconvert_exporter": "python",
   "pygments_lexer": "ipython3",
   "version": "3.10.4"
  }
 },
 "nbformat": 4,
 "nbformat_minor": 5
}
