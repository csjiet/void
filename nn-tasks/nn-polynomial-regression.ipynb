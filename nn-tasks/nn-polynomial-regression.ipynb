{
 "cells": [
  {
   "cell_type": "markdown",
   "id": "b9143aab-fd85-4ae3-8e31-636add184e9a",
   "metadata": {
    "tags": []
   },
   "source": [
    "Okay. Can neural nets learn polynomials?"
   ]
  },
  {
   "cell_type": "code",
   "execution_count": 1,
   "id": "2ab45aae-77d0-4f2b-b8e7-104d2199647f",
   "metadata": {
    "tags": []
   },
   "outputs": [],
   "source": [
    "import torch\n",
    "import torch.nn as nn\n",
    "import torch.optim as optim \n",
    "from torch.utils.data import TensorDataset, random_split\n",
    "import matplotlib.pyplot as plt\n",
    "from typing import Callable"
   ]
  },
  {
   "cell_type": "code",
   "execution_count": 2,
   "id": "215dea97-d46e-4e46-85aa-b119917d60ee",
   "metadata": {
    "tags": []
   },
   "outputs": [],
   "source": [
    "torch.manual_seed(0)\n",
    "# Prepare dataset\n",
    "# Generates polynomial data \n",
    "def polynomial_data_gen(eq: Callable[[torch.Tensor], torch.Tensor], n: int = 2, x_range: list = [0, 1], noise: float = 0):\n",
    "    assert noise >= 0\n",
    "    x = torch.linspace(x_range[0], x_range[1], n) \n",
    "    offset = torch.rand(n) * torch.randint(-noise, noise, (n,)) if noise else torch.zeros(n)\n",
    "    y = eq(x) + offset\n",
    "    return x, y"
   ]
  },
  {
   "cell_type": "code",
   "execution_count": 3,
   "id": "5b6d8226-f1ba-495f-a7e9-93905991c3a0",
   "metadata": {
    "tags": []
   },
   "outputs": [],
   "source": [
    "class CustomLinearNet(nn.Module):\n",
    "    def __init__(self, _in_s: int, _out_s: int, layer_conf: list):\n",
    "        super().__init__()\n",
    "        self._layers = nn.ModuleList(\n",
    "            [getattr(torch.nn, layer_type)(**kwargs) for layer_type, kwargs in layer_conf]\n",
    "        )\n",
    "    \n",
    "    def forward(self, x):\n",
    "        for layer in self._layers:\n",
    "            x = layer(x)\n",
    "        return x "
   ]
  },
  {
   "cell_type": "code",
   "execution_count": 4,
   "id": "581ee282-6e5f-48e6-9dd7-908d33bd2c6c",
   "metadata": {
    "tags": []
   },
   "outputs": [
    {
     "data": {
      "text/plain": [
       "<matplotlib.legend.Legend at 0x1338774f0>"
      ]
     },
     "execution_count": 4,
     "metadata": {},
     "output_type": "execute_result"
    },
    {
     "data": {
      "image/png": "[encoded data removed]",
      "text/plain": [
       "<Figure size 500x300 with 1 Axes>"
      ]
     },
     "metadata": {},
     "output_type": "display_data"
    }
   ],
   "source": [
    "eq = lambda x: (x - 3)*(x - 2)*(x - 1)*(x)*(x + 1)*(x + 2)*(x + 3) \n",
    "X , Y = polynomial_data_gen(eq, n = 150, x_range = [-2, 2], noise= 0)\n",
    "r = 0.8\n",
    "train_size = int(len(X) * r) \n",
    "test_size = len(X) - train_size\n",
    "train, test =  random_split(TensorDataset(X, Y), [train_size, test_size])\n",
    "x_train, y_train = train[:]\n",
    "x_test, y_test= test[:]\n",
    "\n",
    "fig, ax = plt.subplots(figsize=(5,3))\n",
    "ax.scatter(x_train, y_train, label='train')\n",
    "ax.scatter(x_test, y_test, color='green', label='test')\n",
    "ax.legend()"
   ]
  },
  {
   "cell_type": "code",
   "execution_count": 5,
   "id": "14048715-73fd-40c8-8135-c2ed316628ea",
   "metadata": {
    "tags": []
   },
   "outputs": [],
   "source": [
    "x_train_reshaped = x_train.reshape(-1, 1)\n",
    "y_train_reshaped = y_train.reshape(-1, 1)"
   ]
  },
  {
   "cell_type": "code",
   "execution_count": 6,
   "id": "7c01d75c-ca8a-47a5-844f-12eced9152a2",
   "metadata": {
    "tags": []
   },
   "outputs": [
    {
     "name": "stdout",
     "output_type": "stream",
     "text": [
      "Model: \n",
      "CustomLinearNet(\n",
      "  (_layers): ModuleList(\n",
      "    (0): Linear(in_features=1, out_features=4000, bias=True)\n",
      "    (1): Tanh()\n",
      "    (2): Linear(in_features=4000, out_features=3000, bias=True)\n",
      "    (3): Tanh()\n",
      "    (4): Linear(in_features=3000, out_features=1, bias=True)\n",
      "  )\n",
      ")\n",
      "Training loop:\n",
      "epoch 0, Loss: 167.1978302001953\n",
      "epoch 1, Loss: 677.6408081054688\n",
      "epoch 2, Loss: 145.42852783203125\n",
      "epoch 3, Loss: 406.9725646972656\n",
      "epoch 4, Loss: 462.08465576171875\n",
      "epoch 5, Loss: 261.7266540527344\n",
      "epoch 6, Loss: 127.00341796875\n",
      "epoch 7, Loss: 162.6118621826172\n",
      "epoch 8, Loss: 241.89398193359375\n",
      "epoch 9, Loss: 225.44039916992188\n",
      "epoch 10, Loss: 136.6496124267578\n",
      "epoch 11, Loss: 72.68317413330078\n",
      "epoch 12, Loss: 78.9244155883789\n",
      "epoch 13, Loss: 115.07923126220703\n",
      "epoch 14, Loss: 118.3854751586914\n",
      "epoch 15, Loss: 79.7788314819336\n",
      "epoch 16, Loss: 36.96964645385742\n",
      "epoch 17, Loss: 26.43608283996582\n",
      "epoch 18, Loss: 45.234886169433594\n",
      "epoch 19, Loss: 62.01873779296875\n",
      "epoch 20, Loss: 54.210453033447266\n",
      "epoch 21, Loss: 32.834068298339844\n",
      "epoch 22, Loss: 20.006868362426758\n",
      "epoch 23, Loss: 25.43703842163086\n",
      "epoch 24, Loss: 36.88809585571289\n",
      "epoch 25, Loss: 37.98379135131836\n",
      "epoch 26, Loss: 27.516969680786133\n",
      "epoch 27, Loss: 17.334667205810547\n",
      "epoch 28, Loss: 18.291210174560547\n",
      "epoch 29, Loss: 26.284242630004883\n",
      "epoch 30, Loss: 29.5439453125\n",
      "epoch 31, Loss: 24.007572174072266\n",
      "epoch 32, Loss: 16.777402877807617\n",
      "epoch 33, Loss: 15.771924018859863\n",
      "epoch 34, Loss: 20.281930923461914\n",
      "epoch 35, Loss: 23.29644203186035\n",
      "epoch 36, Loss: 20.85818099975586\n",
      "epoch 37, Loss: 16.460132598876953\n",
      "epoch 38, Loss: 15.173966407775879\n",
      "epoch 39, Loss: 17.311710357666016\n",
      "epoch 40, Loss: 19.074697494506836\n",
      "epoch 41, Loss: 17.9249210357666\n",
      "epoch 42, Loss: 15.548913955688477\n",
      "epoch 43, Loss: 14.972070693969727\n",
      "epoch 44, Loss: 16.399744033813477\n",
      "epoch 45, Loss: 17.380027770996094\n",
      "epoch 46, Loss: 16.46600341796875\n",
      "epoch 47, Loss: 14.963618278503418\n",
      "epoch 48, Loss: 14.767148971557617\n",
      "epoch 49, Loss: 15.752751350402832\n"
     ]
    }
   ],
   "source": [
    "model = CustomLinearNet(1,1, \n",
    "                        [ ('Linear', {'in_features': 1, 'out_features': 4000}), \n",
    "                            ('Tanh', {}),\n",
    "                            ('Linear', {'in_features': 4000, 'out_features': 3000}), \n",
    "                            ('Tanh', {}),\n",
    "                            ('Linear', {'in_features': 3000, 'out_features': 1}), \n",
    "                        ]\n",
    "                       )\n",
    "print(f\"Model: \\n{model}\")\n",
    "EPOCH = 50 \n",
    "criterion = nn.MSELoss()\n",
    "optimizer = optim.Adam(model.parameters(), lr=0.01)\n",
    "\n",
    "print(\"Training loop:\")\n",
    "# Training loop\n",
    "for epoch in range(EPOCH):\n",
    "    # Forward pass\n",
    "    ypred = model.forward(x_train_reshaped)\n",
    "    \n",
    "    # Zero grad\n",
    "    optimizer.zero_grad()\n",
    "    \n",
    "    # Backward pass\n",
    "    loss = criterion(ypred, y_train_reshaped)\n",
    "    loss.backward()\n",
    "    \n",
    "    # Update\n",
    "    optimizer.step()\n",
    "    \n",
    "    print(f\"epoch {epoch}, Loss: {loss.item()}\")"
   ]
  },
  {
   "cell_type": "code",
   "execution_count": 7,
   "id": "f3a3a3a7-42d2-40d8-93a0-ae925f748954",
   "metadata": {
    "tags": []
   },
   "outputs": [
    {
     "data": {
      "text/plain": [
       "<matplotlib.collections.PathCollection at 0x133a1f310>"
      ]
     },
     "execution_count": 7,
     "metadata": {},
     "output_type": "execute_result"
    },
    {
     "data": {
      "image/png": "[encoded data removed]",
      "text/plain": [
       "<Figure size 500x300 with 1 Axes>"
      ]
     },
     "metadata": {},
     "output_type": "display_data"
    }
   ],
   "source": [
    "x_test_reshaped = x_test.reshape(-1, 1)\n",
    "y_test_reshaped = y_test.reshape(-1, 1)\n",
    "ypred = model.forward(x_test_reshaped)\n",
    "\n",
    "fig, ax = plt.subplots(figsize=(5,3))\n",
    "ax.scatter(x_test, y_test, label = 'test')\n",
    "\n",
    "ax.scatter(x_test_reshaped.detach().numpy(), ypred.detach().numpy(), label = 'predicted')"
   ]
  },
  {
   "cell_type": "markdown",
   "id": "ebca7b88-1386-4a2e-b23e-f7de234cfcb2",
   "metadata": {},
   "source": [
    "https://theory.stanford.edu/~valiant/papers/andoni14.pdf"
   ]
  },
  {
   "cell_type": "markdown",
   "id": "cbe04beb-c83d-4590-a85e-15180e2aaaaf",
   "metadata": {},
   "source": [
    "Nice. So a neural network with a reasonable number of layers can learn a high degree polynomial, with non-trivial contortions."
   ]
  },
  {
   "cell_type": "code",
   "execution_count": null,
   "id": "d560f2ea-c0a1-4c2a-91e3-d5e20668c16e",
   "metadata": {},
   "outputs": [],
   "source": []
  }
 ],
 "metadata": {
  "kernelspec": {
   "display_name": "python_ml_venv",
   "language": "python",
   "name": "python_ml_venv"
  },
  "language_info": {
   "codemirror_mode": {
    "name": "ipython",
    "version": 3
   },
   "file_extension": ".py",
   "mimetype": "text/x-python",
   "name": "python",
   "nbconvert_exporter": "python",
   "pygments_lexer": "ipython3",
   "version": "3.10.4"
  }
 },
 "nbformat": 4,
 "nbformat_minor": 5
}
