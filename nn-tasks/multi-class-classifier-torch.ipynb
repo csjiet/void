{
 "cells": [
  {
   "cell_type": "code",
   "execution_count": 7,
   "id": "d7fefc5b-198c-4599-b226-524cdd1188f0",
   "metadata": {
    "tags": []
   },
   "outputs": [],
   "source": [
    "# Import MNIST dataset --- 25x25x1 matrix\n",
    "import torchvision\n",
    "import torch\n",
    "from PIL import Image"
   ]
  },
  {
   "cell_type": "code",
   "execution_count": 2,
   "id": "3d90083d-baa4-42d7-b781-17557e5f5a0d",
   "metadata": {
    "tags": []
   },
   "outputs": [],
   "source": [
    "data = torchvision.datasets.MNIST(\"../data\", download=True)"
   ]
  },
  {
   "cell_type": "code",
   "execution_count": 4,
   "id": "77ae2b73-5489-4401-bcae-f26b188004da",
   "metadata": {
    "tags": []
   },
   "outputs": [],
   "source": [
    "# train test splits\n",
    "train_ratio = 0.8\n",
    "train_size = int(train_ratio * len(data))\n",
    "test_size = len(data) - train_size\n",
    "train, test = torch.utils.data.random_split(data, (train_size, test_size))"
   ]
  },
  {
   "cell_type": "code",
   "execution_count": 15,
   "id": "838429c9-e1f7-4bbf-a105-2655cee532ed",
   "metadata": {
    "tags": []
   },
   "outputs": [
    {
     "data": {
      "image/png": "[encoded data removed]",
      "text/plain": [
       "<PIL.Image.Image image mode=L size=28x28>"
      ]
     },
     "metadata": {},
     "output_type": "display_data"
    },
    {
     "name": "stdout",
     "output_type": "stream",
     "text": [
      "8\n"
     ]
    }
   ],
   "source": [
    "display(train[0][0])\n",
    "print(train[0][1])"
   ]
  },
  {
   "cell_type": "code",
   "execution_count": null,
   "id": "de61e9b5-c871-42b8-aa2f-a74b06f1c8e1",
   "metadata": {},
   "outputs": [],
   "source": []
  }
 ],
 "metadata": {
  "kernelspec": {
   "display_name": "Python 3 (ipykernel)",
   "language": "python",
   "name": "python3"
  },
  "language_info": {
   "codemirror_mode": {
    "name": "ipython",
    "version": 3
   },
   "file_extension": ".py",
   "mimetype": "text/x-python",
   "name": "python",
   "nbconvert_exporter": "python",
   "pygments_lexer": "ipython3",
   "version": "3.11.3"
  }
 },
 "nbformat": 4,
 "nbformat_minor": 5
}
